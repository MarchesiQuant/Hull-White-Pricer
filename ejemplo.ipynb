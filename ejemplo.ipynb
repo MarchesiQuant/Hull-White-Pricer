{
 "cells": [
  {
   "cell_type": "markdown",
   "id": "dca70ebe",
   "metadata": {},
   "source": [
    "##  ***Ejemplo Calibración y Pricing Modelo HW***\n",
    "\n"
   ]
  },
  {
   "cell_type": "code",
   "execution_count": 69,
   "id": "ef1e337f",
   "metadata": {},
   "outputs": [],
   "source": [
    "from curve_builder import Curve\n",
    "from hw_model import HullWhiteModel, HullWhiteCurveBuilder, HullWhitePricer, HullWhiteSimulation\n",
    "from calibration import HullWhiteCalibrator\n",
    "\n",
    "import numpy as np\n",
    "import pandas as pd \n",
    "import plotly.express as px \n",
    "import QuantLib as ql "
   ]
  },
  {
   "cell_type": "markdown",
   "id": "2b2a90a7",
   "metadata": {},
   "source": [
    "***1. Lectura de inputs (EUR)***"
   ]
  },
  {
   "cell_type": "code",
   "execution_count": 70,
   "id": "f168e3ff",
   "metadata": {},
   "outputs": [],
   "source": [
    "# Curvas de mercado \n",
    "input_curve = pd.read_excel(r'Plantilla Calibracion EUR.xlsx')\n",
    "time = input_curve['Year Frac.']\n",
    "disc_rate = input_curve['Discount Factor']\n",
    "\n",
    "# Leemos la plantilla para la calibracion\n",
    "df = pd.read_excel(r'Plantilla Calibracion EUR.xlsx', sheet_name = 'Plantilla')\n",
    "date_columns = df.columns[4:]\n",
    "\n",
    "market_prices = {\n",
    "    'Price': df['Price'].tolist(),\n",
    "    'Strike': df['Strike'].tolist(),\n",
    "    'Notional': df['Notional'].tolist(),\n",
    "    'Dates': df[date_columns].apply(lambda row: row.dropna().tolist(), axis=1).tolist()}"
   ]
  },
  {
   "cell_type": "markdown",
   "id": "1c0c85ef",
   "metadata": {},
   "source": [
    "***2. Construcción e interpolación de curvas***"
   ]
  },
  {
   "cell_type": "code",
   "execution_count": null,
   "id": "055d9c15",
   "metadata": {},
   "outputs": [],
   "source": [
    "# Prueba de la clase Curve\n",
    "curve = Curve(time, disc_rate)\n",
    "t = np.linspace(0, 30, 500)\n",
    "px.line(x = t, y = curve.forward(t), title = \"Curva Forward Instantánea (EUR)\") "
   ]
  },
  {
   "cell_type": "markdown",
   "id": "12aa2a17",
   "metadata": {},
   "source": [
    "***3. Calibracion a mercado (EUR)***"
   ]
  },
  {
   "cell_type": "code",
   "execution_count": 72,
   "id": "795966ca",
   "metadata": {},
   "outputs": [
    {
     "name": "stdout",
     "output_type": "stream",
     "text": [
      "a: 0.06449, sigma: 0.00950, Error: 3.62103e-02\n",
      "a: 0.04420, sigma: 0.00917, Error: 2.08750e-02\n",
      "a: 0.01272, sigma: 0.00860, Error: 9.27938e-03\n",
      "a: 0.01269, sigma: 0.00859, Error: 9.27837e-03\n",
      "a: 0.01266, sigma: 0.00859, Error: 9.27814e-03\n",
      " \n",
      "Diferencias Cap 2y:  6.6844%\n",
      "Diferencias Cap 3y: -2.8650%\n",
      "Diferencias Cap 4y: -4.9987%\n",
      "Diferencias Cap 10y: -3.0500%\n",
      "Diferencias Cap 20y:  2.3667%\n"
     ]
    }
   ],
   "source": [
    "init_params = {'a': 0.01, 'sigma':0.01, 'r0': curve.forward(0)}\n",
    "\n",
    "# Inicializamos modelo, simulador, y creador de curvas\n",
    "hw_model = HullWhiteModel(curve, init_params)\n",
    "hw_sim = HullWhiteSimulation(hw_model)\n",
    "hw_curve = HullWhiteCurveBuilder(hw_model, hw_sim)\n",
    "\n",
    "# Inicializamos el pricer, el calibrador y calibramos a mercado \n",
    "pricer = HullWhitePricer(hw_model, hw_curve)\n",
    "calibrator = HullWhiteCalibrator(hw_model, pricer, market_prices)\n",
    "result = calibrator.calibrate() "
   ]
  },
  {
   "cell_type": "markdown",
   "id": "26586c02",
   "metadata": {},
   "source": [
    "***4. Simulación de escenarios consistentes con mercado***"
   ]
  },
  {
   "cell_type": "code",
   "execution_count": null,
   "id": "b443c199",
   "metadata": {},
   "outputs": [],
   "source": [
    "# Actualizamos el modelo con los nuevos parametros \n",
    "a_opt, sigma_opt = result.x\n",
    "params = {'a': a_opt, 'sigma':sigma_opt, 'r0': curve.forward(0)}\n",
    "hw_model = HullWhiteModel(curve, params)\n",
    "hw_sim = HullWhiteSimulation(hw_model, n_paths = 10**6) \n",
    "\n",
    "# Simulacion de la short rate r(t)\n",
    "r_t = hw_sim.simulate_short_rate_direct(T = 1) \n",
    "fig = px.histogram(r_t, nbins = 200, title = 'Distribución de la short rate en un año')\n",
    "fig.update_layout(showlegend=False)\n",
    "fig.show()"
   ]
  },
  {
   "cell_type": "code",
   "execution_count": null,
   "id": "2354f5e3",
   "metadata": {},
   "outputs": [],
   "source": [
    "# Simulacion del tipo a plazo R(t, T)\n",
    "hw_curve = HullWhiteCurveBuilder(hw_model, hw_sim)\n",
    "R_t = hw_curve.long_rate(t = 1, T = 20) \n",
    "fig = px.histogram(R_t, nbins = 200, title = 'Distribución del tipo a 20 años en un año')\n",
    "fig.update_layout(showlegend=False)\n",
    "fig.show()"
   ]
  },
  {
   "cell_type": "markdown",
   "id": "d19c8153",
   "metadata": {},
   "source": [
    "***5. Valoración de instrumentos Vanilla***"
   ]
  },
  {
   "cell_type": "code",
   "execution_count": 75,
   "id": "c03ed961",
   "metadata": {},
   "outputs": [],
   "source": [
    "pricer = HullWhitePricer(hw_model, hw_curve)\n",
    "\n",
    "# Opcion call sobre un bono\n",
    "bond_call = pricer.zero_bond_call(T = 1, S = 2, K = 0.9)\n",
    "\n",
    "# Cap anual\n",
    "Tau = [0, 1, 2, 3, 4, 5]; N = 1; K = 0.025\n",
    "cap = pricer.cap(Tau, N, K)"
   ]
  },
  {
   "cell_type": "markdown",
   "id": "7486dac2",
   "metadata": {},
   "source": [
    "***6. Valoración de instrumentos OTC***\n",
    "\n",
    "*EUR 100,000,000 2.04700000% Cap on 3-Month EUR-EURIBOR*\n",
    "\n",
    "*EUR 100,000,000 2.04700000% Floor on 3-Month EUR-EURIBOR*\n",
    "\n",
    "*Effective 20-Sep-2026 through 20-Sep-2027*\n",
    "\n",
    "*MTM:  831,056.60 €*\n"
   ]
  },
  {
   "cell_type": "code",
   "execution_count": 76,
   "id": "9388ac05",
   "metadata": {},
   "outputs": [
    {
     "name": "stdout",
     "output_type": "stream",
     "text": [
      "Error cometido : 6.2403%\n"
     ]
    }
   ],
   "source": [
    "# Fechas de inicio y fin\n",
    "val_date = ql.Date(31, 3, 2025)\n",
    "start_date = ql.Date(20, 9, 2026)\n",
    "end_date   = ql.Date(20, 9, 2027)\n",
    "day_count = ql.Actual360()\n",
    "\n",
    "# Fechas de pago (la primera no paga)\n",
    "schedule = ql.Schedule(val_date, end_date, ql.Period(ql.Quarterly), ql.TARGET(), ql.Following, ql.Following, ql.DateGeneration.Forward, False)\n",
    "Tau = [day_count.yearFraction(val_date, d) for d in schedule if d >= start_date]\n",
    "\n",
    "# Strike y nominal\n",
    "K = 0.02047; N = 100_000_000\n",
    "\n",
    "# Valoracion\n",
    "mtm = 831_056.60\n",
    "cap = pricer.cap(Tau, N, K)\n",
    "floor = pricer.floor(Tau, N, K)\n",
    "straddle = cap + floor\n",
    "dif = straddle/mtm - 1\n",
    "print(f\"Error cometido :{100*dif: .4f}%\")"
   ]
  },
  {
   "cell_type": "markdown",
   "id": "80363fa7",
   "metadata": {},
   "source": [
    "El error de la valoración va en linea con el error en los instrumentos de la calibración. El modelo es **monocurva**, por tanto, genera los fwd a partir de la **OIS ESTR** y no del **EUR EURIBOR 3M**, lo que puede estar aumentando el error."
   ]
  },
  {
   "cell_type": "markdown",
   "id": "30c82a9a",
   "metadata": {},
   "source": [
    "***7. Calibración a USD***\n",
    "\n"
   ]
  },
  {
   "cell_type": "code",
   "execution_count": 77,
   "id": "270cb20f",
   "metadata": {},
   "outputs": [],
   "source": [
    "# Curvas de mercado \n",
    "input_curve = pd.read_excel(r'Plantilla Calibracion USD.xlsx').dropna()\n",
    "time = input_curve['Year Frac.']\n",
    "disc_rate = input_curve['Discount Factor']\n",
    "\n",
    "# Leemos la plantilla para la calibracion\n",
    "df = pd.read_excel(r'Plantilla Calibracion USD.xlsx', sheet_name = 'Plantilla')\n",
    "date_columns = df.columns[4:]\n",
    "\n",
    "market_prices = {\n",
    "    'Price': df['Price'].tolist(),\n",
    "    'Strike': df['Strike'].tolist(),\n",
    "    'Notional': df['Notional'].tolist(),\n",
    "    'Dates': df[date_columns].apply(lambda row: row.dropna().tolist(), axis=1).tolist()}"
   ]
  },
  {
   "cell_type": "code",
   "execution_count": null,
   "id": "20421cb4",
   "metadata": {},
   "outputs": [],
   "source": [
    "# Prueba de la clase Curve\n",
    "curve = Curve(time, disc_rate)\n",
    "t = np.linspace(0, 30, 500)\n",
    "px.line(x = t, y = curve.forward(t), title = \"Curva Forward Instantánea (USD)\") "
   ]
  },
  {
   "cell_type": "code",
   "execution_count": 79,
   "id": "a032b3b1",
   "metadata": {},
   "outputs": [
    {
     "name": "stdout",
     "output_type": "stream",
     "text": [
      "a: 0.00015, sigma: 0.01069, Error: 2.03142e-02\n",
      "a: 0.00670, sigma: 0.01078, Error: 1.42768e-02\n",
      "a: 0.03044, sigma: 0.01134, Error: 3.90414e-03\n",
      "a: 0.03328, sigma: 0.01149, Error: 3.03009e-03\n",
      "a: 0.03555, sigma: 0.01161, Error: 2.82216e-03\n",
      " \n",
      "Diferencias Cap 2y:  3.7897%\n",
      "Diferencias Cap 3y: -2.7659%\n",
      "Diferencias Cap 4y: -2.3994%\n",
      "Diferencias Cap 10y:  0.1057%\n",
      "Diferencias Cap 20y:  0.6644%\n"
     ]
    }
   ],
   "source": [
    "init_params = {'a': 0.01, 'sigma':0.01, 'r0': curve.forward(0)}\n",
    "\n",
    "# Inicializamos modelo, simulador, y creador de curvas\n",
    "hw_model = HullWhiteModel(curve, init_params)\n",
    "hw_sim = HullWhiteSimulation(hw_model)\n",
    "hw_curve = HullWhiteCurveBuilder(hw_model, hw_sim)\n",
    "\n",
    "# Inicializamos el pricer, el calibrador y calibramos a mercado \n",
    "pricer = HullWhitePricer(hw_model, hw_curve)\n",
    "calibrator = HullWhiteCalibrator(hw_model, pricer, market_prices)\n",
    "result = calibrator.calibrate() "
   ]
  },
  {
   "cell_type": "markdown",
   "id": "ad52e705",
   "metadata": {},
   "source": [
    "Mucho menos error en la calibración de USD."
   ]
  },
  {
   "cell_type": "markdown",
   "id": "49bb10a4",
   "metadata": {},
   "source": [
    "***8. Valoración de instrumentos OTC (USD)***\n",
    "\n",
    "*Notional Amount: USD 25,000,000.00*\n",
    "\n",
    "*Effective Date: 03/04/2024*\n",
    "\n",
    "*Termination Date: 03/04/2029*\n",
    "\n",
    "*Monthly payments*\n",
    "\n",
    "*Floor Rate: 3.00%*\n",
    "\n",
    "*Floating Rate Option: USD-SOFR-OIS Compound 3M*\n",
    "\n",
    "*MTM: 313,786.47 EUR*"
   ]
  },
  {
   "cell_type": "code",
   "execution_count": 80,
   "id": "4a69ad84",
   "metadata": {},
   "outputs": [
    {
     "name": "stdout",
     "output_type": "stream",
     "text": [
      "Error cometido :-3.3326%\n"
     ]
    }
   ],
   "source": [
    "# Fechas de inicio y fin\n",
    "val_date = ql.Date(31, 3, 2025)\n",
    "start_date = ql.Date(3, 4, 2024)\n",
    "end_date = ql.Date(3, 4, 2029)\n",
    "day_count = ql.Actual360()\n",
    "\n",
    "# Fechas de pago (la primera no paga)\n",
    "schedule = ql.Schedule(start_date, end_date, ql.Period(ql.Monthly), ql.TARGET(), ql.Following, ql.Following, ql.DateGeneration.Forward, False)\n",
    "Tau = [day_count.yearFraction(val_date, d) for d in schedule if d > val_date]\n",
    "\n",
    "# Strike, nominal, tipo de cambio\n",
    "K = 0.03; N = 25_000_000; eurusd = 1.0817\n",
    "\n",
    "# Valoracion\n",
    "mtm =  313_786.47 \n",
    "floor = pricer.floor(Tau, N, K)/eurusd\n",
    "dif = floor/mtm - 1\n",
    "print(f\"Error cometido :{100*dif: .4f}%\")"
   ]
  },
  {
   "cell_type": "markdown",
   "id": "ad58510a",
   "metadata": {},
   "source": [
    "Error en línea con la calibración. Hay cierto ajuste de convexidad por ser pagos mensuales y la OIS componerse trimestralmente. El primer floorlet no se está calculando (revisar eso en el pricer de floors), debería aumentar el valor y mejorar el error."
   ]
  },
  {
   "cell_type": "markdown",
   "id": "48b05d87",
   "metadata": {},
   "source": [
    "***Mejoras***:\n",
    "\n",
    "- La valoracion por mc de caps y floors hay que revisarla\n",
    "- Revisar los primeros pagos del pricer analitico de caps/floors\n",
    "- Implementar funciones de test\n",
    "- Implementar simulaciones y pricers bajo $Q^T$\n",
    "- Implementar curvas forward no instantaneas\n",
    "- Añadir una curva adicional (p.ej EURIBOR)\n",
    "- Implementar pricers de bonos con cupones, swaps, swaptions\n",
    "- Mejorar la calibracion (mas instrumentos, mas liquidos, y mejorar optimizacion)\n",
    "- Escalar a modelo bifactorial (una vez este implementado lo anterior)"
   ]
  }
 ],
 "metadata": {
  "kernelspec": {
   "display_name": "base",
   "language": "python",
   "name": "python3"
  },
  "language_info": {
   "codemirror_mode": {
    "name": "ipython",
    "version": 3
   },
   "file_extension": ".py",
   "mimetype": "text/x-python",
   "name": "python",
   "nbconvert_exporter": "python",
   "pygments_lexer": "ipython3",
   "version": "3.12.7"
  }
 },
 "nbformat": 4,
 "nbformat_minor": 5
}
